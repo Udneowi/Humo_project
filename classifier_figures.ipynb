{
 "cells": [
  {
   "cell_type": "code",
   "execution_count": 1,
   "metadata": {},
   "outputs": [],
   "source": [
    "import torch\n",
    "import numpy as np\n",
    "import matplotlib.pyplot as plt\n",
    "\n",
    "from subject_clf.subject_net import SubjectNet\n",
    "from subject_clf.dataset_imperial import dataset, subjects, short_term_weights_path\n",
    "from long_term.dataset_imperial import long_term_weights_path\n",
    "from long_term.locomotion_utils import build_extra_features, compute_splines\n",
    "from long_term.pose_network_long_term import PoseNetworkLongTerm\n",
    "from common.spline import Spline\n",
    "from common.visualization import render_animation, render_animation_dual\n",
    "from long_term.pace_network import PaceNetwork\n",
    "\n",
    "from sklearn.decomposition import PCA\n",
    "import sklearn.metrics as mt\n",
    "\n",
    "from mpl_toolkits.mplot3d import Axes3D\n",
    "import itertools\n",
    "from tqdm import tqdm"
   ]
  },
  {
   "cell_type": "code",
   "execution_count": 2,
   "metadata": {},
   "outputs": [],
   "source": [
    "if torch.cuda.is_available():\n",
    "    dataset.cuda()\n",
    "dataset.compute_euler_angles('yzx')\n",
    "dataset.compute_positions()\n",
    "build_extra_features(dataset)"
   ]
  },
  {
   "cell_type": "code",
   "execution_count": 3,
   "metadata": {},
   "outputs": [
    {
     "name": "stdout",
     "output_type": "stream",
     "text": [
      "Loading weights from weights_subject.bin\n",
      "Loading weights from weights_subject_gen.bin\n",
      "Loading weights from weights_subject_all.bin\n",
      "Ready\n"
     ]
    }
   ],
   "source": [
    "num_joints = dataset.skeleton().num_joints()\n",
    "prefix_length = 50\n",
    "\n",
    "sn_data = SubjectNet(num_joints, len(dataset.subjects()), prefix_length, short_term_weights_path)\n",
    "sn_data.load_weights('weights_subject.bin')\n",
    "sn_data.eval()\n",
    "\n",
    "sn_gen = SubjectNet(num_joints, len(dataset.subjects()), prefix_length, short_term_weights_path)\n",
    "sn_gen.load_weights('weights_subject_gen.bin')\n",
    "sn_gen.eval()\n",
    "\n",
    "sn_all = SubjectNet(num_joints, len(dataset.subjects()), prefix_length, short_term_weights_path)\n",
    "sn_all.load_weights('weights_subject_all.bin')\n",
    "sn_all.eval()\n",
    "\n",
    "print('Ready')"
   ]
  },
  {
   "cell_type": "code",
   "execution_count": 4,
   "metadata": {},
   "outputs": [
    {
     "name": "stdout",
     "output_type": "stream",
     "text": [
      "# parameters: 9545250\n",
      "Loading weights from weights_long_term.bin\n",
      "Loading weights from weights_pace_network.bin\n"
     ]
    }
   ],
   "source": [
    "gen_net = PoseNetworkLongTerm(50, dataset.skeleton())\n",
    "gen_net.load_weights('weights_long_term.bin')\n",
    "pace_net = PaceNetwork()\n",
    "pace_net.load_weights('weights_pace_network.bin')"
   ]
  },
  {
   "cell_type": "code",
   "execution_count": 5,
   "metadata": {},
   "outputs": [],
   "source": [
    "def remove_subjects(M, idxs):\n",
    "    for i in idxs:\n",
    "        M = np.delete(M, i, 0)\n",
    "        M = np.delete(M, i, 1)\n",
    "    return M"
   ]
  },
  {
   "cell_type": "code",
   "execution_count": 6,
   "metadata": {},
   "outputs": [
    {
     "name": "stdout",
     "output_type": "stream",
     "text": [
      "1 / 26\n",
      "2 / 26\n",
      "3 / 26\n",
      "4 / 26\n",
      "5 / 26\n",
      "6 / 26\n",
      "7 / 26\n",
      "8 / 26\n",
      "9 / 26\n",
      "10 / 26\n",
      "11 / 26\n",
      "12 / 26\n",
      "13 / 26\n",
      "14 / 26\n",
      "15 / 26\n",
      "16 / 26\n",
      "17 / 26\n",
      "18 / 26\n",
      "19 / 26\n",
      "20 / 26\n",
      "21 / 26\n",
      "22 / 26\n",
      "23 / 26\n",
      "24 / 26\n",
      "25 / 26\n",
      "26 / 26\n",
      "Done\n"
     ]
    }
   ],
   "source": [
    "prefix_length = 50\n",
    "n_subjects = len(dataset.subjects())\n",
    "n_chunks = 10\n",
    "n_downsamples = 8\n",
    "\n",
    "Y_data_data_true = np.zeros((n_subjects,n_downsamples,n_chunks,n_subjects))\n",
    "Y_data_data_pred = np.zeros((n_subjects,n_downsamples,n_chunks,n_subjects))\n",
    "\n",
    "Y_data_gen_true = np.zeros((n_subjects,n_downsamples,n_chunks,n_subjects))\n",
    "Y_data_gen_pred = np.zeros((n_subjects,n_downsamples,n_chunks,n_subjects))\n",
    "\n",
    "Y_data_all_true = np.zeros((n_subjects,n_downsamples,n_chunks,n_subjects))\n",
    "Y_data_all_pred = np.zeros((n_subjects,n_downsamples,n_chunks,n_subjects))\n",
    "\n",
    "Y_gen_data_true = np.zeros((n_subjects,n_downsamples,n_chunks,n_subjects))\n",
    "Y_gen_data_pred = np.zeros((n_subjects,n_downsamples,n_chunks,n_subjects))\n",
    "\n",
    "Y_gen_gen_true = np.zeros((n_subjects,n_downsamples,n_chunks,n_subjects))\n",
    "Y_gen_gen_pred = np.zeros((n_subjects,n_downsamples,n_chunks,n_subjects))\n",
    "\n",
    "Y_gen_all_true = np.zeros((n_subjects,n_downsamples,n_chunks,n_subjects))\n",
    "Y_gen_all_pred = np.zeros((n_subjects,n_downsamples,n_chunks,n_subjects))\n",
    "\n",
    "subjects = [s for s in dataset.subjects() if s != 'Subject22']\n",
    "\n",
    "def random_chunks(n_chunks, chunk_length, data):\n",
    "    out = []\n",
    "    start_idxs = []\n",
    "    for i in range(n_chunks):\n",
    "        start_idx = np.random.randint(data.shape[0] - chunk_length)\n",
    "        di = torch.from_numpy(data[start_idx:(start_idx+chunk_length)])\n",
    "        out.append(di.reshape(chunk_length, -1).float().unsqueeze(0))\n",
    "        start_idxs.append(start_idx)\n",
    "        \n",
    "    return torch.cat(out).cuda(), start_idxs\n",
    "\n",
    "sn_data.cuda()\n",
    "sn_gen.cuda()\n",
    "sn_all.cuda()\n",
    "gen_net.cuda()\n",
    "pace_net.cuda()\n",
    "\n",
    "traj = np.array([[i,0] for i in range(prefix_length)])\n",
    "spline = Spline(traj, closed=False)\n",
    "spline = pace_net.predict(spline, average_speed=0.5)\n",
    "# Magic fix for direction\n",
    "spline.tracks['direction'][0][:,0] = 1\n",
    "spline.tracks['direction'][0][:,1] = 1\n",
    "\n",
    "for i, s in enumerate(dataset.subjects()):\n",
    "    print('%d / %d' % (i+1, len(dataset.subjects())))\n",
    "    Y_data_gen_true[i,:,:,i] = 1\n",
    "    Y_gen_gen_true[i,:,:,i] = 1\n",
    "    Y_data_data_true[i,:,:,i] = 1\n",
    "    Y_gen_data_true[i,:,:,i] = 1\n",
    "    Y_data_all_true[i,:,:,i] = 1\n",
    "    Y_gen_all_true[i,:,:,i] = 1\n",
    "    with torch.no_grad():\n",
    "        for d in range(n_downsamples):\n",
    "            action = 'walking_2_d%d' % d\n",
    "            data = dataset[s][action]['rotations']\n",
    "            chunks, start_idxs = random_chunks(n_chunks, 2*prefix_length, data)\n",
    "            chunks_data = chunks[:,50:]\n",
    "            \n",
    "            chunks_gen = []\n",
    "            for ci, chunk in enumerate(chunks):\n",
    "                action_prefix = {}\n",
    "                for key, arr in dataset[s][action].items():\n",
    "                    action_prefix[key] = arr[start_idxs[ci]:start_idxs[ci]+prefix_length]\n",
    "                _, cg = gen_net.generate_motion(spline, action_prefix, do_print=False, only_rotations=False)\n",
    "                cg = cg.squeeze()[:prefix_length]\n",
    "                chunks_gen.append(cg.reshape(prefix_length, -1).float().unsqueeze(0))\n",
    "            chunks_gen = torch.cat(chunks_gen).cuda()\n",
    "            \n",
    "            clf_data = sn_data(chunks_data).softmax(dim=1)\n",
    "            clf_gen = sn_data(chunks_gen).softmax(dim=1)\n",
    "            Y_data_data_pred[i,d,:,:] = clf_data\n",
    "            Y_gen_data_pred[i,d,:,:] = clf_gen\n",
    "            \n",
    "            clf_data = sn_gen(chunks_data).softmax(dim=1)\n",
    "            clf_gen = sn_gen(chunks_gen).softmax(dim=1)\n",
    "            Y_data_gen_pred[i,d,:,:] = clf_data\n",
    "            Y_gen_gen_pred[i,d,:,:] = clf_gen\n",
    "            \n",
    "            clf_data = sn_all(chunks_data).softmax(dim=1)\n",
    "            clf_gen = sn_all(chunks_gen).softmax(dim=1)\n",
    "            Y_data_all_pred[i,d,:,:] = clf_data\n",
    "            Y_gen_all_pred[i,d,:,:] = clf_gen\n",
    "                \n",
    "print('Done')\n",
    "#C_data_data = remove_subjects(C_data_data, [21])\n",
    "#C_data_gen = remove_subjects(C_data_gen, [21])\n",
    "#C_data_all = remove_subjects(C_data_all, [21])\n",
    "#C_gen_data = remove_subjects(C_gen_data, [21])\n",
    "#C_gen_gen = remove_subjects(C_gen_gen, [21])\n",
    "#C_gen_all = remove_subjects(C_gen_all, [21])"
   ]
  },
  {
   "cell_type": "code",
   "execution_count": 7,
   "metadata": {},
   "outputs": [
    {
     "ename": "ValueError",
     "evalue": "unknown format is not supported",
     "output_type": "error",
     "traceback": [
      "\u001b[0;31m---------------------------------------------------------------------------\u001b[0m",
      "\u001b[0;31mValueError\u001b[0m                                Traceback (most recent call last)",
      "\u001b[0;32m<ipython-input-7-2bf3b7441e73>\u001b[0m in \u001b[0;36m<module>\u001b[0;34m\u001b[0m\n\u001b[0;32m----> 1\u001b[0;31m \u001b[0mmt\u001b[0m\u001b[0;34m.\u001b[0m\u001b[0mroc_auc_score\u001b[0m\u001b[0;34m(\u001b[0m\u001b[0mY_data_all_true\u001b[0m\u001b[0;34m,\u001b[0m \u001b[0mY_data_all_pred\u001b[0m\u001b[0;34m,\u001b[0m \u001b[0maverage\u001b[0m\u001b[0;34m=\u001b[0m\u001b[0;34m'micro'\u001b[0m\u001b[0;34m)\u001b[0m\u001b[0;34m\u001b[0m\u001b[0m\n\u001b[0m",
      "\u001b[0;32m~/Documents/derp-project/lib/python3.6/site-packages/sklearn/metrics/ranking.py\u001b[0m in \u001b[0;36mroc_auc_score\u001b[0;34m(y_true, y_score, average, sample_weight, max_fpr)\u001b[0m\n\u001b[1;32m    349\u001b[0m     return _average_binary_score(\n\u001b[1;32m    350\u001b[0m         \u001b[0m_binary_roc_auc_score\u001b[0m\u001b[0;34m,\u001b[0m \u001b[0my_true\u001b[0m\u001b[0;34m,\u001b[0m \u001b[0my_score\u001b[0m\u001b[0;34m,\u001b[0m \u001b[0maverage\u001b[0m\u001b[0;34m,\u001b[0m\u001b[0;34m\u001b[0m\u001b[0m\n\u001b[0;32m--> 351\u001b[0;31m         sample_weight=sample_weight)\n\u001b[0m\u001b[1;32m    352\u001b[0m \u001b[0;34m\u001b[0m\u001b[0m\n\u001b[1;32m    353\u001b[0m \u001b[0;34m\u001b[0m\u001b[0m\n",
      "\u001b[0;32m~/Documents/derp-project/lib/python3.6/site-packages/sklearn/metrics/base.py\u001b[0m in \u001b[0;36m_average_binary_score\u001b[0;34m(binary_metric, y_true, y_score, average, sample_weight)\u001b[0m\n\u001b[1;32m     72\u001b[0m     \u001b[0my_type\u001b[0m \u001b[0;34m=\u001b[0m \u001b[0mtype_of_target\u001b[0m\u001b[0;34m(\u001b[0m\u001b[0my_true\u001b[0m\u001b[0;34m)\u001b[0m\u001b[0;34m\u001b[0m\u001b[0m\n\u001b[1;32m     73\u001b[0m     \u001b[0;32mif\u001b[0m \u001b[0my_type\u001b[0m \u001b[0;32mnot\u001b[0m \u001b[0;32min\u001b[0m \u001b[0;34m(\u001b[0m\u001b[0;34m\"binary\"\u001b[0m\u001b[0;34m,\u001b[0m \u001b[0;34m\"multilabel-indicator\"\u001b[0m\u001b[0;34m)\u001b[0m\u001b[0;34m:\u001b[0m\u001b[0;34m\u001b[0m\u001b[0m\n\u001b[0;32m---> 74\u001b[0;31m         \u001b[0;32mraise\u001b[0m \u001b[0mValueError\u001b[0m\u001b[0;34m(\u001b[0m\u001b[0;34m\"{0} format is not supported\"\u001b[0m\u001b[0;34m.\u001b[0m\u001b[0mformat\u001b[0m\u001b[0;34m(\u001b[0m\u001b[0my_type\u001b[0m\u001b[0;34m)\u001b[0m\u001b[0;34m)\u001b[0m\u001b[0;34m\u001b[0m\u001b[0m\n\u001b[0m\u001b[1;32m     75\u001b[0m \u001b[0;34m\u001b[0m\u001b[0m\n\u001b[1;32m     76\u001b[0m     \u001b[0;32mif\u001b[0m \u001b[0my_type\u001b[0m \u001b[0;34m==\u001b[0m \u001b[0;34m\"binary\"\u001b[0m\u001b[0;34m:\u001b[0m\u001b[0;34m\u001b[0m\u001b[0m\n",
      "\u001b[0;31mValueError\u001b[0m: unknown format is not supported"
     ]
    }
   ],
   "source": [
    "mt.roc_auc_score(Y_data_all_true, Y_data_all_pred, average='micro')"
   ]
  },
  {
   "cell_type": "code",
   "execution_count": 79,
   "metadata": {},
   "outputs": [
    {
     "data": {
      "text/plain": [
       "(2080, 26)"
      ]
     },
     "execution_count": 79,
     "metadata": {},
     "output_type": "execute_result"
    }
   ],
   "source": [
    "Y_data_all_pred.shape"
   ]
  },
  {
   "cell_type": "code",
   "execution_count": 8,
   "metadata": {},
   "outputs": [],
   "source": [
    "def roc_auc(Y_true, Y_pred):\n",
    "    nclass = Y_true.shape[1]\n",
    "    out = 0\n",
    "    for i in range(nclass):\n",
    "        fpr,tpr,_ = mt.roc_curve(Y_true.take(i,1) > 0, Y_pred.take(i,1))\n",
    "        out += mt.auc(fpr,tpr) / nclass\n",
    "    return out"
   ]
  },
  {
   "cell_type": "code",
   "execution_count": 9,
   "metadata": {},
   "outputs": [
    {
     "data": {
      "text/plain": [
       "array([[[9.72597301e-01, 1.02346006e-03, 1.20162615e-03, ...,\n",
       "         4.48864856e-04, 2.89275870e-03, 1.12583186e-03],\n",
       "        [9.79212046e-01, 1.10251736e-03, 8.14849627e-04, ...,\n",
       "         5.35276951e-04, 1.01227791e-03, 1.32119376e-03],\n",
       "        [9.79817569e-01, 7.53890024e-04, 1.64620287e-03, ...,\n",
       "         7.04999082e-04, 5.60144603e-04, 8.71014025e-04],\n",
       "        ...,\n",
       "        [9.72731531e-01, 1.03478506e-03, 1.47042319e-03, ...,\n",
       "         8.06494616e-04, 2.42204266e-03, 1.11993204e-03],\n",
       "        [9.85922813e-01, 5.28124860e-04, 1.08040066e-03, ...,\n",
       "         4.39467432e-04, 3.86521366e-04, 6.24897191e-04],\n",
       "        [9.79196370e-01, 1.13151688e-03, 1.02502794e-03, ...,\n",
       "         9.69487941e-04, 4.15505870e-04, 1.12983899e-03]],\n",
       "\n",
       "       [[1.92965206e-03, 9.46367264e-01, 1.28577719e-03, ...,\n",
       "         2.74273101e-03, 1.60524331e-03, 3.24259698e-03],\n",
       "        [1.32719998e-03, 9.68937576e-01, 1.31219800e-03, ...,\n",
       "         9.05726687e-04, 9.66776279e-04, 1.43811770e-03],\n",
       "        [8.99786653e-04, 9.71676528e-01, 2.08996469e-03, ...,\n",
       "         6.46441069e-04, 1.66486192e-03, 1.23731932e-03],\n",
       "        ...,\n",
       "        [5.93300676e-04, 9.86105025e-01, 5.35884406e-04, ...,\n",
       "         3.60235485e-04, 7.47743412e-04, 9.43186344e-04],\n",
       "        [1.01023482e-03, 9.69640017e-01, 1.72989920e-03, ...,\n",
       "         1.03896111e-03, 1.98916974e-03, 1.64906704e-03],\n",
       "        [1.23403280e-03, 9.58331943e-01, 1.75200414e-03, ...,\n",
       "         1.88484706e-03, 1.78950757e-03, 2.75389454e-03]],\n",
       "\n",
       "       [[1.22554065e-03, 1.94017380e-03, 9.11540985e-01, ...,\n",
       "         2.56025419e-03, 1.69710699e-03, 3.14910314e-03],\n",
       "        [4.61679010e-04, 4.82678734e-04, 9.82650459e-01, ...,\n",
       "         2.73291051e-04, 4.78347298e-04, 1.28970633e-03],\n",
       "        [4.89981205e-04, 4.55201458e-04, 9.89393473e-01, ...,\n",
       "         3.44776548e-04, 3.77558812e-04, 3.56051169e-04],\n",
       "        ...,\n",
       "        [4.81004041e-04, 1.27189350e-03, 9.72529173e-01, ...,\n",
       "         5.29919227e-04, 8.14353465e-04, 1.40115921e-03],\n",
       "        [5.94193174e-04, 1.51925930e-03, 9.59417462e-01, ...,\n",
       "         7.63717340e-04, 6.88128115e-04, 2.67325738e-03],\n",
       "        [1.34263909e-03, 2.07694643e-03, 9.45066512e-01, ...,\n",
       "         2.38839141e-03, 2.12544692e-03, 2.25893641e-03]],\n",
       "\n",
       "       ...,\n",
       "\n",
       "       [[9.75658069e-04, 9.20992286e-04, 1.03826367e-03, ...,\n",
       "         9.78463829e-01, 1.01748353e-03, 6.12831849e-04],\n",
       "        [9.96930059e-04, 1.33490318e-03, 1.14590104e-03, ...,\n",
       "         9.68395710e-01, 2.00522156e-03, 1.12542231e-03],\n",
       "        [1.28169497e-03, 1.86236529e-03, 1.39736419e-03, ...,\n",
       "         9.72132802e-01, 1.09397213e-03, 6.71934220e-04],\n",
       "        ...,\n",
       "        [5.58706990e-04, 8.60699103e-04, 1.39332772e-03, ...,\n",
       "         9.80660021e-01, 9.56658914e-04, 1.15118979e-03],\n",
       "        [1.11690606e-03, 1.93480973e-03, 2.69154203e-03, ...,\n",
       "         9.60461676e-01, 2.70819198e-03, 2.00778176e-03],\n",
       "        [3.29346838e-03, 5.98359713e-03, 5.08541195e-03, ...,\n",
       "         8.53196621e-01, 1.06099481e-02, 1.11262109e-02]],\n",
       "\n",
       "       [[3.22003762e-04, 3.21358006e-04, 6.63747895e-04, ...,\n",
       "         2.64061964e-04, 9.90086138e-01, 2.37236949e-04],\n",
       "        [1.50564231e-03, 4.71233996e-03, 9.63709026e-04, ...,\n",
       "         4.75828536e-03, 9.25136447e-01, 4.96184407e-03],\n",
       "        [5.25033392e-04, 7.44129007e-04, 7.46253179e-04, ...,\n",
       "         1.80600432e-03, 9.82844472e-01, 6.61500962e-04],\n",
       "        ...,\n",
       "        [2.68845423e-03, 2.52899132e-03, 2.03665532e-03, ...,\n",
       "         2.01008283e-03, 9.41022635e-01, 3.51240160e-03],\n",
       "        [5.34187828e-04, 9.26047098e-04, 9.73572256e-04, ...,\n",
       "         4.08058200e-04, 9.75470603e-01, 9.62240330e-04],\n",
       "        [2.23472156e-03, 3.40430532e-03, 3.46385315e-03, ...,\n",
       "         2.50897091e-03, 9.20362473e-01, 6.70439517e-03]],\n",
       "\n",
       "       [[1.31704996e-03, 3.44222900e-03, 2.28469237e-03, ...,\n",
       "         4.39095171e-03, 5.85877709e-03, 9.34946060e-01],\n",
       "        [1.72224699e-03, 8.73158220e-03, 2.86763301e-03, ...,\n",
       "         5.93212666e-03, 1.68249197e-02, 8.89841974e-01],\n",
       "        [3.99708562e-03, 1.05743781e-02, 6.37287693e-03, ...,\n",
       "         6.25987723e-03, 3.89921316e-03, 8.73391092e-01],\n",
       "        ...,\n",
       "        [2.81871948e-03, 3.05047538e-03, 2.98055192e-03, ...,\n",
       "         2.64302967e-03, 2.92395381e-03, 9.40732539e-01],\n",
       "        [5.65546565e-03, 9.70115326e-03, 5.43493452e-03, ...,\n",
       "         7.75116542e-03, 1.86414050e-03, 8.71513605e-01],\n",
       "        [2.72239302e-03, 3.82550200e-03, 2.97412463e-03, ...,\n",
       "         5.58578782e-03, 2.48762150e-03, 9.10476327e-01]]])"
      ]
     },
     "execution_count": 9,
     "metadata": {},
     "output_type": "execute_result"
    }
   ],
   "source": [
    "Y_data_data_pred.take(0,1)"
   ]
  },
  {
   "cell_type": "code",
   "execution_count": 199,
   "metadata": {},
   "outputs": [
    {
     "data": {
      "text/plain": [
       "array([0.00000000e+00, 4.80769231e-04, 3.57692308e-01, 3.58653846e-01,\n",
       "       5.88461538e-01, 5.89423077e-01, 6.65384615e-01, 6.66346154e-01,\n",
       "       7.59134615e-01, 7.60096154e-01, 8.08173077e-01, 8.09134615e-01,\n",
       "       9.22596154e-01, 9.23557692e-01, 1.00000000e+00])"
      ]
     },
     "execution_count": 199,
     "metadata": {},
     "output_type": "execute_result"
    }
   ],
   "source": [
    "fpr"
   ]
  },
  {
   "cell_type": "code",
   "execution_count": 211,
   "metadata": {},
   "outputs": [
    {
     "name": "stdout",
     "output_type": "stream",
     "text": [
      "0.4041125\n",
      "0.5004662259615386\n"
     ]
    },
    {
     "data": {
      "image/png": "[encoded data removed]",
      "text/plain": [
       "<Figure size 432x288 with 1 Axes>"
      ]
     },
     "metadata": {
      "needs_background": "light"
     },
     "output_type": "display_data"
    }
   ],
   "source": [
    "nn = n_downsamples*n_chunks\n",
    "fpr,tpr,_ = mt.roc_curve(Y_data_gen_true.take(23,1) > 0,\n",
    "                         Y_data_gen_pred.take(23,1))\n",
    "plt.plot(fpr,tpr)\n",
    "\n",
    "print(mt.auc(fpr,tpr))\n",
    "print(roc_auc(Y_data_gen_true,Y_data_gen_pred))"
   ]
  },
  {
   "cell_type": "code",
   "execution_count": 10,
   "metadata": {},
   "outputs": [],
   "source": [
    "Y_data_data_true = Y_data_data_true.reshape(-1, n_subjects)\n",
    "Y_data_data_pred = Y_data_data_pred.reshape(-1, n_subjects)\n",
    "C_data_data = mt.confusion_matrix(Y_data_data_true.argmax(axis=1), Y_data_data_pred.argmax(axis=1))\n",
    "\n",
    "Y_data_gen_true = Y_data_gen_true.reshape(-1, n_subjects)\n",
    "Y_data_gen_pred = Y_data_gen_pred.reshape(-1, n_subjects)\n",
    "C_data_gen = mt.confusion_matrix(Y_data_gen_true.argmax(axis=1), Y_data_gen_pred.argmax(axis=1))\n",
    "\n",
    "Y_data_all_true = Y_data_all_true.reshape(-1, n_subjects)\n",
    "Y_data_all_pred = Y_data_all_pred.reshape(-1, n_subjects)\n",
    "C_data_all = mt.confusion_matrix(Y_data_all_true.argmax(axis=1), Y_data_all_pred.argmax(axis=1))\n",
    "\n",
    "Y_gen_data_true = Y_gen_data_true.reshape(-1, n_subjects)\n",
    "Y_gen_data_pred = Y_gen_data_pred.reshape(-1, n_subjects)\n",
    "C_gen_data = mt.confusion_matrix(Y_gen_data_true.argmax(axis=1), Y_gen_data_pred.argmax(axis=1))\n",
    "\n",
    "Y_gen_gen_true = Y_gen_gen_true.reshape(-1, n_subjects)\n",
    "Y_gen_gen_pred = Y_gen_gen_pred.reshape(-1, n_subjects)\n",
    "C_gen_gen = mt.confusion_matrix(Y_gen_gen_true.argmax(axis=1), Y_gen_gen_pred.argmax(axis=1))\n",
    "\n",
    "Y_gen_all_true = Y_gen_all_true.reshape(-1, n_subjects)\n",
    "Y_gen_all_pred = Y_gen_all_pred.reshape(-1, n_subjects)\n",
    "C_gen_all = mt.confusion_matrix(Y_gen_all_true.argmax(axis=1), Y_gen_all_pred.argmax(axis=1))"
   ]
  },
  {
   "cell_type": "code",
   "execution_count": 11,
   "metadata": {},
   "outputs": [],
   "source": [
    "def plot_confusion_matrix(cm, classes,\n",
    "                          normalize=False,\n",
    "                          title='Confusion matrix',\n",
    "                          cmap=plt.cm.Blues):\n",
    "    \"\"\"\n",
    "    This function prints and plots the confusion matrix.\n",
    "    Normalization can be applied by setting `normalize=True`.\n",
    "    \"\"\"\n",
    "    if normalize:\n",
    "        cm = cm.astype('float') / cm.sum(axis=1)[:, np.newaxis]\n",
    "        print(\"Normalized confusion matrix\")\n",
    "    else:\n",
    "        print('Confusion matrix, without normalization')\n",
    "\n",
    "    plt.imshow(cm, interpolation='nearest', cmap=cmap)\n",
    "    #plt.title(title)\n",
    "    #plt.colorbar()\n",
    "    #tick_marks = np.arange(len(classes))\n",
    "    #plt.xticks(tick_marks, classes, rotation=45)\n",
    "    #plt.yticks(tick_marks, classes)\n",
    "\n",
    "    #fmt = '.2f' if normalize else '.0f'\n",
    "    #thresh = cm.max() / 2.\n",
    "    #for i, j in itertools.product(range(cm.shape[0]), range(cm.shape[1])):\n",
    "        #lbl = format(cm[i, j], fmt)\n",
    "        #if cm[i, j] > 0.01:\n",
    "        #    plt.text(j, i, lbl,\n",
    "        #         horizontalalignment=\"center\",\n",
    "        #         color=\"white\" if cm[i, j] > thresh else \"black\")\n",
    "\n",
    "    #plt.ylabel('True label')\n",
    "    #plt.xlabel('Predicted label')\n",
    "    plt.tight_layout()"
   ]
  },
  {
   "cell_type": "code",
   "execution_count": 12,
   "metadata": {
    "scrolled": false
   },
   "outputs": [
    {
     "name": "stdout",
     "output_type": "stream",
     "text": [
      "Normalized confusion matrix\n",
      "Normalized confusion matrix\n",
      "Normalized confusion matrix\n",
      "Normalized confusion matrix\n",
      "Normalized confusion matrix\n",
      "Normalized confusion matrix\n"
     ]
    },
    {
     "data": {
      "image/png": "[encoded data removed]",
      "text/plain": [
       "<Figure size 288x432 with 7 Axes>"
      ]
     },
     "metadata": {
      "needs_background": "light"
     },
     "output_type": "display_data"
    }
   ],
   "source": [
    "fig = plt.figure(figsize=(4,6))\n",
    "fontsiz = 9\n",
    "\n",
    "ax = plt.subplot(321)\n",
    "plot_confusion_matrix(C_data_data, subjects, normalize=True, cmap=plt.cm.Blues)\n",
    "for tl in ax.get_yticklabels():\n",
    "    tl.set_fontsize(fontsiz)\n",
    "for tl in ax.get_xticklabels():\n",
    "    tl.set_fontsize(fontsiz)\n",
    "plt.title('Data', fontsize=fontsiz)\n",
    "ax.set_ylabel('Data')\n",
    "ax.yaxis.get_label().set_fontsize(fontsiz)\n",
    "\n",
    "ax = plt.subplot(322)\n",
    "plot_confusion_matrix(C_gen_data, subjects, normalize=True, cmap=plt.cm.Blues)\n",
    "for tl in ax.get_yticklabels():\n",
    "    tl.set_fontsize(fontsiz)\n",
    "for tl in ax.get_xticklabels():\n",
    "    tl.set_fontsize(fontsiz)\n",
    "plt.title('Generated', fontsize=fontsiz)\n",
    "\n",
    "ax = plt.subplot(323)\n",
    "plot_confusion_matrix(C_data_gen, subjects, normalize=True, cmap=plt.cm.Blues)\n",
    "for tl in ax.get_yticklabels():\n",
    "    tl.set_fontsize(fontsiz)\n",
    "for tl in ax.get_xticklabels():\n",
    "    tl.set_fontsize(fontsiz)\n",
    "ax.set_ylabel('Generated', fontsize=fontsiz)\n",
    "\n",
    "ax = plt.subplot(324)\n",
    "plot_confusion_matrix(C_gen_gen, subjects, normalize=True, cmap=plt.cm.Blues)\n",
    "for tl in ax.get_yticklabels():\n",
    "    tl.set_fontsize(fontsiz)\n",
    "for tl in ax.get_xticklabels():\n",
    "    tl.set_fontsize(fontsiz)\n",
    "\n",
    "ax = plt.subplot(325)\n",
    "plot_confusion_matrix(C_data_all, subjects, normalize=True, cmap=plt.cm.Blues)\n",
    "for tl in ax.get_yticklabels():\n",
    "    tl.set_fontsize(fontsiz)\n",
    "for tl in ax.get_xticklabels():\n",
    "    tl.set_fontsize(fontsiz)\n",
    "ax.set_ylabel('All', fontsize=fontsiz)\n",
    "\n",
    "ax = plt.subplot(326)\n",
    "plot_confusion_matrix(C_gen_all, subjects, normalize=True, cmap=plt.cm.Blues)\n",
    "for tl in ax.get_yticklabels():\n",
    "    tl.set_fontsize(fontsiz)\n",
    "for tl in ax.get_xticklabels():\n",
    "    tl.set_fontsize(fontsiz)\n",
    "    \n",
    "fig.subplots_adjust(bottom=0.05)\n",
    "cbar_ax = fig.add_axes([0.1, 0.0, 0.87, 0.025])\n",
    "cb = plt.colorbar(cax=cbar_ax, orientation='horizontal')\n",
    "cb.ax.tick_params(labelsize=fontsiz)\n",
    "\n",
    "plt.savefig('conf-mats.pdf', bbox_inches='tight')"
   ]
  },
  {
   "cell_type": "code",
   "execution_count": 213,
   "metadata": {},
   "outputs": [
    {
     "name": "stdout",
     "output_type": "stream",
     "text": [
      "AUC & 1.00 & 0.50 & 0.92 & 0.47 & 1.00 & 0.99 \\\\\n",
      "F1 & 0.95 & 0.00 & 0.00 & 0.01 & 0.96 & 0.62 \\\\\n",
      "Val. acc. & 0.96 & 0.04 & 0.04 & 0.04 & 0.97 & 0.61\n"
     ]
    },
    {
     "name": "stderr",
     "output_type": "stream",
     "text": [
      "/zhome/9d/d/98006/Documents/derp-project/lib/python3.6/site-packages/sklearn/metrics/classification.py:1143: UndefinedMetricWarning: F-score is ill-defined and being set to 0.0 in labels with no predicted samples.\n",
      "  'precision', 'predicted', average, warn_for)\n"
     ]
    }
   ],
   "source": [
    "auc = [\n",
    "    roc_auc(Y_data_data_true, Y_data_data_pred),\n",
    "    roc_auc(Y_data_gen_true, Y_data_gen_pred),\n",
    "    roc_auc(Y_data_all_true, Y_data_all_pred),\n",
    "    roc_auc(Y_gen_data_true, Y_gen_data_pred),\n",
    "    roc_auc(Y_gen_gen_true, Y_gen_gen_pred),\n",
    "    roc_auc(Y_gen_all_true, Y_gen_all_pred)\n",
    "]\n",
    "\n",
    "f1 = [\n",
    "    mt.f1_score(Y_data_data_true.argmax(axis=1), Y_data_data_pred.argmax(axis=1), average='macro'),\n",
    "    mt.f1_score(Y_data_gen_true.argmax(axis=1), Y_data_gen_pred.argmax(axis=1), average='macro'),\n",
    "    mt.f1_score(Y_data_all_true.argmax(axis=1), Y_data_all_pred.argmax(axis=1), average='macro'),\n",
    "    mt.f1_score(Y_gen_data_true.argmax(axis=1), Y_gen_data_pred.argmax(axis=1), average='macro'),\n",
    "    mt.f1_score(Y_gen_gen_true.argmax(axis=1), Y_gen_gen_pred.argmax(axis=1), average='macro'),\n",
    "    mt.f1_score(Y_gen_all_true.argmax(axis=1), Y_gen_all_pred.argmax(axis=1), average='macro')\n",
    "]\n",
    "\n",
    "acc = [\n",
    "    mt.accuracy_score(Y_data_data_true.argmax(axis=1), Y_data_data_pred.argmax(axis=1)),\n",
    "    mt.accuracy_score(Y_data_gen_true.argmax(axis=1), Y_data_gen_pred.argmax(axis=1)),\n",
    "    mt.accuracy_score(Y_data_all_true.argmax(axis=1), Y_data_all_pred.argmax(axis=1)),\n",
    "    mt.accuracy_score(Y_gen_data_true.argmax(axis=1), Y_gen_data_pred.argmax(axis=1)),\n",
    "    mt.accuracy_score(Y_gen_gen_true.argmax(axis=1), Y_gen_gen_pred.argmax(axis=1)),\n",
    "    mt.accuracy_score(Y_gen_all_true.argmax(axis=1), Y_gen_all_pred.argmax(axis=1))\n",
    "]\n",
    "\n",
    "score_names = ['AUC', 'F1', 'Val. acc.']\n",
    "\n",
    "print(' \\\\\\\\\\n'.join(\n",
    "    [score_names[i] + ' & ' + ' & '.join(\n",
    "        ['%.2f' % s for s in scores]) for i, scores in enumerate([auc, f1, acc])]))"
   ]
  },
  {
   "cell_type": "code",
   "execution_count": 13,
   "metadata": {},
   "outputs": [
    {
     "name": "stdout",
     "output_type": "stream",
     "text": [
      "Subject1\n",
      "Subject2\n",
      "Subject3\n",
      "Subject4\n",
      "Subject5\n",
      "Subject6\n",
      "Subject7\n",
      "Subject8\n",
      "Subject9\n",
      "Subject10\n",
      "Subject11\n",
      "Subject12\n",
      "Subject13\n",
      "Subject14\n",
      "Subject15\n",
      "Subject16\n",
      "Subject17\n",
      "Subject18\n",
      "Subject19\n",
      "Subject20\n",
      "Subject21\n",
      "Subject22\n",
      "Subject23\n",
      "Subject24\n",
      "Subject25\n",
      "Subject26\n",
      "Done\n"
     ]
    }
   ],
   "source": [
    "h_size = 1000\n",
    "n_try = 100\n",
    "subjects = list(dataset.subjects())\n",
    "prefix_length = 50\n",
    "\n",
    "qn = sn_data.qn\n",
    "\n",
    "traj = np.array([[i,0] for i in range(prefix_length)])\n",
    "spline = Spline(traj, closed=False)\n",
    "spline = pace_net.predict(spline, average_speed=0.5)\n",
    "# Magic fix for direction\n",
    "spline.tracks['direction'][0][:,0] = 1\n",
    "spline.tracks['direction'][0][:,1] = 1\n",
    "\n",
    "H_data = np.zeros((h_size, n_try, len(dataset.subjects())))\n",
    "H_gen = np.zeros((h_size, n_try, len(dataset.subjects())))\n",
    "\n",
    "for si, subject in enumerate(dataset.subjects()):\n",
    "    print(subject)\n",
    "    action = 'walking_2_d%d' % (np.random.randint(8))\n",
    "    data = dataset[subject][action]['rotations']\n",
    "    start_idx_subject = np.random.randint(data.shape[0] - n_try - prefix_length)\n",
    "    for t in range(n_try):\n",
    "        start_idx = t + start_idx_subject\n",
    "        chunk_dat = torch.from_numpy(data[start_idx:(start_idx+prefix_length)])\\\n",
    "            .reshape(prefix_length, -1).float().unsqueeze(0)\n",
    "        action_prefix = {}\n",
    "        for key, arr in dataset[subject][action].items():\n",
    "            action_prefix[key] = arr[start_idx:start_idx+prefix_length]\n",
    "        _, chunk_gen = gen_net.generate_motion(spline, action_prefix, do_print=False, only_rotations=False)\n",
    "        chunk_gen = chunk_gen.squeeze()[:prefix_length]\n",
    "        chunk_gen = chunk_gen.reshape(prefix_length, -1).float().unsqueeze(0)        \n",
    "        with torch.no_grad():\n",
    "            H_data[:,t,si] = qn(chunk_dat.cuda())[1][1]\n",
    "            H_gen[:,t,si] = qn(chunk_gen.cuda())[1][1]\n",
    "print('Done')"
   ]
  },
  {
   "cell_type": "code",
   "execution_count": 14,
   "metadata": {},
   "outputs": [
    {
     "ename": "NameError",
     "evalue": "name 'H_all' is not defined",
     "output_type": "error",
     "traceback": [
      "\u001b[0;31m---------------------------------------------------------------------------\u001b[0m",
      "\u001b[0;31mNameError\u001b[0m                                 Traceback (most recent call last)",
      "\u001b[0;32m<ipython-input-14-66c5e01e115c>\u001b[0m in \u001b[0;36m<module>\u001b[0;34m\u001b[0m\n\u001b[0;32m----> 1\u001b[0;31m \u001b[0mH_all\u001b[0m\u001b[0;34m.\u001b[0m\u001b[0mshape\u001b[0m\u001b[0;34m\u001b[0m\u001b[0m\n\u001b[0m",
      "\u001b[0;31mNameError\u001b[0m: name 'H_all' is not defined"
     ]
    }
   ],
   "source": [
    "H_all.shape"
   ]
  },
  {
   "cell_type": "code",
   "execution_count": 15,
   "metadata": {},
   "outputs": [],
   "source": [
    "pca_data = PCA()\n",
    "pca_gen = PCA()\n",
    "pca_all = PCA()\n",
    "\n",
    "H_data_n = H_data.reshape(h_size, -1)\n",
    "H_data_n /= np.linalg.norm(H_data_n, axis=0)\n",
    "H_data_pca = pca_data.fit_transform(H_data_n.T).T.reshape(1000,n_try,-1)\n",
    "\n",
    "H_gen_n = H_gen.reshape(h_size, -1)\n",
    "H_gen_n /= np.linalg.norm(H_gen_n, axis=0)\n",
    "H_gen_pca = pca_gen.fit_transform(H_gen_n.T).T.reshape(1000,n_try,-1)\n",
    "\n",
    "H_all = np.hstack([H_data.reshape(h_size, -1) - np.mean(H_data.reshape(h_size, -1),axis=0), \n",
    "                   H_gen.reshape(h_size, -1) - np.mean(H_gen.reshape(h_size, -1), axis=0)])\n",
    "H_all /= np.linalg.norm(H_all, axis=0)\n",
    "H_all_pca = pca_all.fit_transform(H_all.reshape(h_size, -1).T).T.reshape(1000,-1,26)"
   ]
  },
  {
   "cell_type": "code",
   "execution_count": 117,
   "metadata": {},
   "outputs": [
    {
     "data": {
      "text/plain": [
       "'#1f77b4'"
      ]
     },
     "execution_count": 117,
     "metadata": {},
     "output_type": "execute_result"
    }
   ],
   "source": [
    "ll = lines[0][0]\n",
    "ll.get_color()"
   ]
  },
  {
   "cell_type": "code",
   "execution_count": 18,
   "metadata": {},
   "outputs": [
    {
     "data": {
      "image/png": "[encoded data removed]",
      "text/plain": [
       "<Figure size 576x216 with 3 Axes>"
      ]
     },
     "metadata": {
      "needs_background": "light"
     },
     "output_type": "display_data"
    }
   ],
   "source": [
    "to_plot = [0,1,2,3]\n",
    "\n",
    "%matplotlib inline\n",
    "fig = plt.figure(figsize=(8,3))\n",
    "\n",
    "plt.subplots_adjust(bottom=0.3)\n",
    "\n",
    "fontsiz = 12\n",
    "\n",
    "ax = plt.subplot(1,3,1, projection='3d')\n",
    "for s in to_plot:\n",
    "    plt.plot(H_data_pca[0,:,s].squeeze(),H_data_pca[1,:,s].squeeze(),H_data_pca[2,:,s].squeeze(),'x-',linewidth=1)\n",
    "ax.view_init(30,60)\n",
    "plt.title('Data', fontsize=fontsiz+2)\n",
    "plt.xticks([-0.5,0,0.5])\n",
    "for tx, ty, tz in zip(ax.get_xticklabels(), ax.get_yticklabels(), ax.get_zticklabels()):\n",
    "    tx.set_fontsize(fontsiz)\n",
    "    ty.set_fontsize(fontsiz)\n",
    "    tz.set_fontsize(fontsiz)\n",
    "\n",
    "ax = plt.subplot(1,3,2, projection='3d')\n",
    "for s in to_plot:\n",
    "    plt.plot(H_gen_pca[0,:,s].squeeze(),H_gen_pca[1,:,s].squeeze(),H_gen_pca[2,:,s].squeeze(),'x-',linewidth=1)\n",
    "ax.view_init(30,60)\n",
    "plt.title('Generated', fontsize=fontsiz+2)\n",
    "for tx, ty, tz in zip(ax.get_xticklabels(), ax.get_yticklabels(), ax.get_zticklabels()):\n",
    "    tx.set_fontsize(fontsiz)\n",
    "    ty.set_fontsize(fontsiz)\n",
    "    tz.set_fontsize(fontsiz)\n",
    "\n",
    "ax = plt.subplot(1,3,3, projection='3d')\n",
    "lines = []\n",
    "for s in to_plot:\n",
    "    lines.append(plt.plot(H_all_pca[0,:n_try,s].squeeze(),\n",
    "                          H_all_pca[1,:n_try,s].squeeze(),\n",
    "                          H_all_pca[2,:n_try,s].squeeze(),'x-',linewidth=1)[0])\n",
    "for lp, s in zip(lines, to_plot):\n",
    "    plt.plot(H_all_pca[0,n_try:,s].squeeze(),H_all_pca[1,n_try:,s].squeeze(),H_all_pca[2,n_try:,s].squeeze(),'x-',\n",
    "            color=lp.get_color(), linewidth=1)\n",
    "ax.view_init(30,60)\n",
    "plt.title('All', fontsize=fontsiz+2)\n",
    "for tx, ty, tz in zip(ax.get_xticklabels(), ax.get_yticklabels(), ax.get_zticklabels()):\n",
    "    tx.set_fontsize(fontsiz)\n",
    "    ty.set_fontsize(fontsiz)\n",
    "    tz.set_fontsize(fontsiz)\n",
    "\n",
    "plt.figlegend(lines, ['Subject%d' % (s + 1) for s in to_plot], 'lower center', ncol=4, bbox_to_anchor=(0.45,0.02), \n",
    "              fontsize=fontsiz)\n",
    "#plt.tight_layout()\n",
    "plt.savefig('pca-hidden.pdf', bbox_inches='tight')"
   ]
  },
  {
   "cell_type": "code",
   "execution_count": 89,
   "metadata": {},
   "outputs": [
    {
     "data": {
      "text/plain": [
       "array([1., 1., 1., ..., 1., 1., 1.])"
      ]
     },
     "execution_count": 89,
     "metadata": {},
     "output_type": "execute_result"
    }
   ],
   "source": [
    "np.linalg.norm(np.hstack([H_data.reshape(h_size, -1), H_gen.reshape(h_size, -1)]), axis=0)"
   ]
  },
  {
   "cell_type": "code",
   "execution_count": 122,
   "metadata": {},
   "outputs": [
    {
     "data": {
      "image/png": "[encoded data removed]",
      "text/plain": [
       "<Figure size 288x115.2 with 1 Axes>"
      ]
     },
     "metadata": {
      "needs_background": "light"
     },
     "output_type": "display_data"
    }
   ],
   "source": [
    "%matplotlib inline\n",
    "fig = plt.figure(figsize=(4,1.6))\n",
    "plt.semilogx(np.cumsum(pca_data.explained_variance_ratio_[:]))\n",
    "plt.semilogx(np.cumsum(pca_gen.explained_variance_ratio_[:]))\n",
    "plt.semilogx(np.cumsum(pca_all.explained_variance_ratio_[:]))\n",
    "plt.grid()\n",
    "\n",
    "plt.yticks([0.0,0.25,0.5,0.75,1.0])\n",
    "\n",
    "ax = plt.gca()\n",
    "ax.set_yticklabels(['0.0','','0.5','','1.0'])\n",
    "for tx, ty in zip(ax.get_xticklabels(), ax.get_yticklabels()):\n",
    "    tx.set_fontsize(9)\n",
    "    ty.set_fontsize(9)\n",
    "plt.xlabel('Number of components', fontsize=9)\n",
    "plt.ylabel('Explained var.', fontsize=9)\n",
    "\n",
    "plt.legend(['Data','Generated','All'], fontsize=9, loc='lower right', ncol=1)\n",
    "\n",
    "plt.tight_layout()\n",
    "\n",
    "plt.savefig('pca-explained-var.pdf', transparent=True)"
   ]
  },
  {
   "cell_type": "code",
   "execution_count": null,
   "metadata": {},
   "outputs": [],
   "source": []
  },
  {
   "cell_type": "code",
   "execution_count": null,
   "metadata": {},
   "outputs": [],
   "source": []
  },
  {
   "cell_type": "code",
   "execution_count": null,
   "metadata": {},
   "outputs": [],
   "source": []
  },
  {
   "cell_type": "code",
   "execution_count": null,
   "metadata": {},
   "outputs": [],
   "source": []
  },
  {
   "cell_type": "code",
   "execution_count": null,
   "metadata": {},
   "outputs": [],
   "source": []
  },
  {
   "cell_type": "code",
   "execution_count": null,
   "metadata": {},
   "outputs": [],
   "source": []
  },
  {
   "cell_type": "code",
   "execution_count": null,
   "metadata": {},
   "outputs": [],
   "source": []
  },
  {
   "cell_type": "code",
   "execution_count": null,
   "metadata": {},
   "outputs": [],
   "source": []
  },
  {
   "cell_type": "code",
   "execution_count": null,
   "metadata": {},
   "outputs": [],
   "source": []
  },
  {
   "cell_type": "code",
   "execution_count": null,
   "metadata": {},
   "outputs": [],
   "source": []
  },
  {
   "cell_type": "code",
   "execution_count": null,
   "metadata": {},
   "outputs": [],
   "source": []
  },
  {
   "cell_type": "code",
   "execution_count": null,
   "metadata": {},
   "outputs": [],
   "source": []
  },
  {
   "cell_type": "code",
   "execution_count": null,
   "metadata": {},
   "outputs": [],
   "source": []
  },
  {
   "cell_type": "code",
   "execution_count": null,
   "metadata": {},
   "outputs": [],
   "source": []
  },
  {
   "cell_type": "code",
   "execution_count": null,
   "metadata": {},
   "outputs": [],
   "source": []
  },
  {
   "cell_type": "code",
   "execution_count": null,
   "metadata": {},
   "outputs": [],
   "source": []
  },
  {
   "cell_type": "code",
   "execution_count": null,
   "metadata": {},
   "outputs": [],
   "source": []
  },
  {
   "cell_type": "code",
   "execution_count": null,
   "metadata": {},
   "outputs": [],
   "source": []
  },
  {
   "cell_type": "code",
   "execution_count": null,
   "metadata": {},
   "outputs": [],
   "source": []
  },
  {
   "cell_type": "code",
   "execution_count": null,
   "metadata": {},
   "outputs": [],
   "source": []
  },
  {
   "cell_type": "code",
   "execution_count": null,
   "metadata": {},
   "outputs": [],
   "source": []
  },
  {
   "cell_type": "code",
   "execution_count": null,
   "metadata": {},
   "outputs": [],
   "source": []
  }
 ],
 "metadata": {
  "kernelspec": {
   "display_name": "Python 3",
   "language": "python",
   "name": "python3"
  },
  "language_info": {
   "codemirror_mode": {
    "name": "ipython",
    "version": 3
   },
   "file_extension": ".py",
   "mimetype": "text/x-python",
   "name": "python",
   "nbconvert_exporter": "python",
   "pygments_lexer": "ipython3",
   "version": "3.6.2"
  }
 },
 "nbformat": 4,
 "nbformat_minor": 2
}
